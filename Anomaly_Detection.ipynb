{
 "cells": [
  {
   "cell_type": "markdown",
   "metadata": {},
   "source": [
    "# LIB IMPORT"
   ]
  },
  {
   "cell_type": "code",
   "execution_count": 1,
   "metadata": {},
   "outputs": [],
   "source": [
    "# Synthetic dataset\n",
    "from sklearn.datasets import make_classification\n",
    "# Data processing\n",
    "import pandas as pd\n",
    "import numpy as np\n",
    "from collections import Counter\n",
    "from sklearn.preprocessing import MinMaxScaler\n",
    "from sklearn.preprocessing import StandardScaler\n",
    "from imblearn.over_sampling import SMOTE\n",
    "from imblearn.under_sampling import RandomUnderSampler\n",
    "from imblearn.pipeline import Pipeline\n",
    "# Visualization\n",
    "import matplotlib.pyplot as plt\n",
    "# Model and performance\n",
    "from sklearn.ensemble import IsolationForest\n",
    "from sklearn.svm import OneClassSVM\n",
    "from sklearn.model_selection import train_test_split\n",
    "from sklearn.metrics import classification_report"
   ]
  },
  {
   "cell_type": "code",
   "execution_count": null,
   "metadata": {},
   "outputs": [],
   "source": [
    "\n",
    "from keras.models import Sequential\n",
    "from keras.layers import Convolution2D, MaxPool2D, Activationi, Dropout, Flatten, Dense\n",
    "from keras.preprocessing.image import ImageDataGenerator, img_to_array, load_img"
   ]
  },
  {
   "cell_type": "markdown",
   "metadata": {},
   "source": [
    "# CREATE IMBALANCED DATASET AND FOR THE 0-1 VALUES IF "
   ]
  },
  {
   "cell_type": "code",
   "execution_count": 67,
   "metadata": {},
   "outputs": [
    {
     "name": "stderr",
     "output_type": "stream",
     "text": [
      "/Users/erdemsevinc/anaconda3/lib/python3.11/site-packages/sklearn/base.py:439: UserWarning: X does not have valid feature names, but IsolationForest was fitted with feature names\n",
      "  warnings.warn(\n"
     ]
    }
   ],
   "source": [
    "\n",
    "\n",
    "df = pd.read_csv(\"One_year_compiled.csv\")\n",
    "df =df.drop(['timestamp', 'sample_Number', 'hour', 'day', 'month'], axis = 1)\n",
    "\n",
    "for i, group in df.groupby(np.arange(len(df)) // 1000000):\n",
    "    group.to_csv(f\"group_{i}.csv\", index=False)\n",
    "\n",
    "df2 = pd.read_csv(\"group_0.csv\")\n",
    "\n",
    "model = IsolationForest(n_estimators=100,max_samples='auto',contamination=float(0.2),max_features=1.0)\n",
    "# contamination Verilerde bulunması beklenen aykırı değerlerin veya anormalliklerin oranını tanımlar.\n",
    "model.fit(df2[[\"pCut::Motor_Torque\"]])\n",
    "df2['torq_anomalies_score'] = model.decision_function(df2[[\"pCut::Motor_Torque\"]])\n",
    "df2['torq_anomaly'] = model.predict(df2[[\"pCut::Motor_Torque\"]])\n",
    "\n",
    "df_main = df2[['pCut::CTRL_Position_controller::Actual_position']].copy()\n",
    "\n",
    "df_main['pSvolFilm::CTRL_Position_controller::Actual_position'] = df2['pSvolFilm::CTRL_Position_controller::Actual_position']\n",
    "\n",
    "df_main['torq_anomaly'] = df2['torq_anomaly']\n",
    "\n",
    "df_main.replace(-1, 0, inplace=True)\n",
    "\n",
    "df_torq = df2[['torq_anomaly']].copy()\n",
    "\n",
    "df_torq.replace(-1, 0, inplace=True)\n",
    "\n",
    "# oversampling opencv kullan \n",
    "# görsele zoom at\n",
    "# 100000 veri yap\n"
   ]
  },
  {
   "cell_type": "markdown",
   "metadata": {},
   "source": [
    "# NORMALIZATION"
   ]
  },
  {
   "cell_type": "code",
   "execution_count": 68,
   "metadata": {},
   "outputs": [],
   "source": [
    "scaler = StandardScaler()\n",
    "\n",
    "# Veriyi normalize etme\n",
    "normalize_edilmis_veri = scaler.fit_transform(df_main)"
   ]
  },
  {
   "cell_type": "markdown",
   "metadata": {},
   "source": [
    "# TRAIN TEST SPLIT"
   ]
  },
  {
   "cell_type": "code",
   "execution_count": 69,
   "metadata": {},
   "outputs": [],
   "source": [
    "# Train test split\n",
    "X_train, X_test, y_train, y_test = train_test_split(normalize_edilmis_veri, df_torq, test_size=0.2, random_state=42)\n"
   ]
  },
  {
   "cell_type": "markdown",
   "metadata": {},
   "source": [
    "# SMOTE OVERSAMPLING"
   ]
  },
  {
   "cell_type": "code",
   "execution_count": 70,
   "metadata": {},
   "outputs": [],
   "source": [
    "#smt = SMOTE()\n",
    "\n",
    "#X_test_sm, y_test_sm = smt.fit_resample(X_test, y_test)\n"
   ]
  },
  {
   "cell_type": "markdown",
   "metadata": {},
   "source": [
    "# TRAIN OC SVM MODEL"
   ]
  },
  {
   "cell_type": "code",
   "execution_count": 71,
   "metadata": {},
   "outputs": [],
   "source": [
    "# Train the one class support vector machine (SVM) model\n",
    "one_class_svm = OneClassSVM(nu=0.01, kernel = 'rbf', gamma = 'auto').fit(X_train)"
   ]
  },
  {
   "cell_type": "markdown",
   "metadata": {},
   "source": [
    "# PREDICT ANOMALIES"
   ]
  },
  {
   "cell_type": "code",
   "execution_count": 72,
   "metadata": {},
   "outputs": [
    {
     "name": "stdout",
     "output_type": "stream",
     "text": [
      "              precision    recall  f1-score   support\n",
      "\n",
      "           0       0.54      0.03      0.05     40202\n",
      "           1       0.80      0.99      0.89    159798\n",
      "\n",
      "    accuracy                           0.80    200000\n",
      "   macro avg       0.67      0.51      0.47    200000\n",
      "weighted avg       0.75      0.80      0.72    200000\n",
      "\n"
     ]
    }
   ],
   "source": [
    "# Predict the anomalies\n",
    "prediction = one_class_svm.predict(X_test)\n",
    "# Change the anomalies' values to make it consistent with the true values\n",
    "prediction = [0 if i==-1 else 1 for i in prediction]\n",
    "# Check the model performance\n",
    "print(classification_report(y_test, prediction))\n"
   ]
  },
  {
   "cell_type": "markdown",
   "metadata": {},
   "source": [
    "# IOU SCORE"
   ]
  },
  {
   "cell_type": "code",
   "execution_count": 73,
   "metadata": {},
   "outputs": [
    {
     "name": "stdout",
     "output_type": "stream",
     "text": [
      "IoU Score: torq_anomaly    0.800059\n",
      "dtype: float64\n"
     ]
    }
   ],
   "source": [
    "def calculate_iou(y_train, y_test):\n",
    "    intersection = np.logical_and(y_train, y_test)\n",
    "    union = np.logical_or(y_train, y_test)\n",
    "    iou_score = np.sum(intersection) / np.sum(union)\n",
    "    return iou_score\n",
    "\n",
    "\n",
    "\n",
    "iou = calculate_iou(y_train, y_test)\n",
    "print(\"IoU Score:\", iou)"
   ]
  },
  {
   "cell_type": "markdown",
   "metadata": {},
   "source": [
    "# CUSTOMIZE PREDICTIONS USING SCORE"
   ]
  },
  {
   "cell_type": "code",
   "execution_count": 74,
   "metadata": {},
   "outputs": [
    {
     "name": "stdout",
     "output_type": "stream",
     "text": [
      "The customized score threshold for 2% of outliers is 988.14\n",
      "              precision    recall  f1-score   support\n",
      "\n",
      "           0       0.20      0.92      0.33     40202\n",
      "           1       0.77      0.07      0.12    159798\n",
      "\n",
      "    accuracy                           0.24    200000\n",
      "   macro avg       0.49      0.49      0.23    200000\n",
      "weighted avg       0.66      0.24      0.17    200000\n",
      "\n"
     ]
    }
   ],
   "source": [
    "# Get the scores for the testing dataset\n",
    "score = one_class_svm.score_samples(X_test)\n",
    "# Check the score for 2% of outliers\n",
    "score_threshold = np.percentile(score, 7)\n",
    "print(f'The customized score threshold for 2% of outliers is {score_threshold:.2f}')\n",
    "# Check the model performance at 2% threshold\n",
    "customized_prediction = [1 if i < score_threshold else 0 for i in score]\n",
    "# # Check the prediction performance\n",
    "print(classification_report(y_test, customized_prediction))\n",
    "#paperswithcode"
   ]
  },
  {
   "cell_type": "markdown",
   "metadata": {},
   "source": [
    "# VISUALIZATION"
   ]
  },
  {
   "cell_type": "code",
   "execution_count": 75,
   "metadata": {},
   "outputs": [
    {
     "data": {
      "text/plain": [
       "<matplotlib.collections.PathCollection at 0x179ca6d50>"
      ]
     },
     "execution_count": 75,
     "metadata": {},
     "output_type": "execute_result"
    },
    {
     "data": {
      "image/png": "[encoded data removed]",
      "text/plain": [
       "<Figure size 2000x600 with 3 Axes>"
      ]
     },
     "metadata": {},
     "output_type": "display_data"
    }
   ],
   "source": [
    "# Put the testing dataset and predictions in the same dataframe\n",
    "df_test = pd.DataFrame(X_test, columns=['pCut::CTRL_Position_controller::Actual_position', 'pSvolFilm::CTRL_Position_controller::Actual_position','torq_anomaly'])\n",
    "df_test['y_test'] = y_test\n",
    "df_test['one_class_svm_prediction'] = prediction\n",
    "df_test['one_class_svm_prediction_cutomized'] = customized_prediction\n",
    "\n",
    "\n",
    "fig, (ax0, ax1, ax2) = plt.subplots(1, 3, sharey=True, figsize=(20, 6))\n",
    "\n",
    "ax0.set_title('Original')\n",
    "ax0.scatter(df_test['pCut::CTRL_Position_controller::Actual_position'], df_test['pSvolFilm::CTRL_Position_controller::Actual_position'], c=df_test['y_test'], cmap='rainbow', alpha=0.1, s=1)\n",
    "\n",
    "# One-Class SVM Predictions\n",
    "ax1.set_title('One-Class SVM Predictions')\n",
    "ax1.scatter(df_test['pCut::CTRL_Position_controller::Actual_position'], df_test['pSvolFilm::CTRL_Position_controller::Actual_position'], c=df_test['one_class_svm_prediction'], cmap='rainbow', alpha=0.01, s=1)\n",
    "\n",
    "# One-Class SVM Predictions With Customized Threshold\n",
    "ax2.set_title('One-Class SVM Predictions With Customized Threshold')\n",
    "ax2.scatter(df_test['pCut::CTRL_Position_controller::Actual_position'], df_test['pSvolFilm::CTRL_Position_controller::Actual_position'], c=df_test['one_class_svm_prediction_cutomized'], cmap='rainbow', alpha=0.01, s=1)\n",
    "\n",
    "\n"
   ]
  }
 ],
 "metadata": {
  "kernelspec": {
   "display_name": "base",
   "language": "python",
   "name": "python3"
  },
  "language_info": {
   "codemirror_mode": {
    "name": "ipython",
    "version": 3
   },
   "file_extension": ".py",
   "mimetype": "text/x-python",
   "name": "python",
   "nbconvert_exporter": "python",
   "pygments_lexer": "ipython3",
   "version": "3.11.5"
  }
 },
 "nbformat": 4,
 "nbformat_minor": 2
}
